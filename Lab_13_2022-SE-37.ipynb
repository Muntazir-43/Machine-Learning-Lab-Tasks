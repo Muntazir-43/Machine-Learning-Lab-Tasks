{
 "cells": [
  {
   "cell_type": "markdown",
   "id": "f00810e5-2870-4d5f-9029-f834565eccd6",
   "metadata": {},
   "source": [
    "# SLP OR-GATE TASK"
   ]
  },
  {
   "cell_type": "code",
   "execution_count": 2,
   "id": "d5e10d1f-46b5-484b-9603-73ce81a7151a",
   "metadata": {},
   "outputs": [],
   "source": [
    "import numpy as np"
   ]
  },
  {
   "cell_type": "markdown",
   "id": "13d246bc-c239-4405-9aeb-119c819315b7",
   "metadata": {},
   "source": [
    "I create a simple function that returns 1 if the input is greater than or equal to 0, otherwise 0. This helps classify the output."
   ]
  },
  {
   "cell_type": "code",
   "execution_count": 4,
   "id": "dc79296a-cf3d-4c21-ab5f-c3b9aeae782b",
   "metadata": {},
   "outputs": [],
   "source": [
    "def activation(x):\n",
    "    return 1 if x >= 0 else 0"
   ]
  },
  {
   "cell_type": "markdown",
   "id": "9b4ea04e-bbbb-4146-be4c-f376dff4467e",
   "metadata": {},
   "source": [
    "I initialize random weights and a bias to start learning. Then, I loop through the dataset multiple times (epochs=10), adjusting the weights based on the error between the predicted and actual output. This helps the model improve with each iteration."
   ]
  },
  {
   "cell_type": "code",
   "execution_count": 6,
   "id": "3e6b4518-7278-4d9c-8962-f0bb85eddb8c",
   "metadata": {},
   "outputs": [],
   "source": [
    "def train_slp(X, y, lr=0.1, epochs=10):\n",
    "    weights = np.random.rand(2)\n",
    "    bias = np.random.rand()\n",
    "    \n",
    "    for epoch in range(epochs):\n",
    "        for i in range(len(X)):\n",
    "            z = np.dot(X[i], weights) + bias\n",
    "            y_pred = activation(z)\n",
    "            error = y[i] - y_pred\n",
    "            \n",
    "            # Weight update\n",
    "            weights += lr * error * X[i]\n",
    "            bias += lr * error\n",
    "            \n",
    "    return weights, bias"
   ]
  },
  {
   "cell_type": "markdown",
   "id": "7b409aef-ae90-4d5b-86f9-eccd18716eae",
   "metadata": {},
   "source": [
    "I define a function that takes inputs, applies the trained weights and bias, and then uses the activation function to decide the final output."
   ]
  },
  {
   "cell_type": "code",
   "execution_count": 8,
   "id": "bbcf48d6-3ada-4b92-bd91-d93326a14012",
   "metadata": {},
   "outputs": [],
   "source": [
    "def predict(X, weights, bias):\n",
    "    return [activation(np.dot(x, weights) + bias) for x in X]"
   ]
  },
  {
   "cell_type": "markdown",
   "id": "c68df1e2-c944-497a-a0b1-8dc5ae12f376",
   "metadata": {},
   "source": [
    "I create an array of input values [(0,0), (0,1), (1,0), (1,1)] along with their expected outputs based on OR logic. Then, I call the training function so the perceptron can learn the correct weights and bias by adjusting them through multiple iterations."
   ]
  },
  {
   "cell_type": "code",
   "execution_count": 10,
   "id": "d2f334bc-0618-4869-b218-a78ac79ba954",
   "metadata": {},
   "outputs": [],
   "source": [
    "# Training data for OR gate\n",
    "X = np.array([[0, 0], [0, 1], [1, 0], [1, 1]])\n",
    "y = np.array([0, 1, 1, 1])\n",
    "\n",
    "weights, bias = train_slp(X, y)"
   ]
  },
  {
   "cell_type": "markdown",
   "id": "92bce8cb-cc98-4cb8-86dd-4118229d27f1",
   "metadata": {},
   "source": [
    "I use the trained model to predict the outputs for the given inputs. Then, I print the predicted outputs along with their corresponding inputs to check if the model is producing the correct results."
   ]
  },
  {
   "cell_type": "code",
   "execution_count": 12,
   "id": "a69722f2-f794-4c3f-af5f-e4937b416bb6",
   "metadata": {},
   "outputs": [
    {
     "name": "stdout",
     "output_type": "stream",
     "text": [
      "Predictions:\n",
      "Input: [0 0] -> Output: 0\n",
      "Input: [0 1] -> Output: 1\n",
      "Input: [1 0] -> Output: 1\n",
      "Input: [1 1] -> Output: 1\n"
     ]
    }
   ],
   "source": [
    "# Testing the trained model\n",
    "predictions = predict(X, weights, bias)\n",
    "print(\"Predictions:\")\n",
    "for i in range(len(X)):\n",
    "    print(f\"Input: {X[i]} -> Output: {predictions[i]}\")"
   ]
  },
  {
   "cell_type": "markdown",
   "id": "048d12b0-622f-4e29-b741-9f7ff9e5e96c",
   "metadata": {},
   "source": [
    "I show the final trained values of weights and bias to understand how the perceptron has learned."
   ]
  },
  {
   "cell_type": "code",
   "execution_count": 14,
   "id": "4296d00a-76c2-471c-ad83-90292823378e",
   "metadata": {},
   "outputs": [
    {
     "name": "stdout",
     "output_type": "stream",
     "text": [
      "Trained weights: [0.88524987 0.61033854]\n",
      "Trained bias: -0.0609063701049517\n"
     ]
    }
   ],
   "source": [
    "# Print trained weights and bias\n",
    "print(\"Trained weights:\", weights)\n",
    "print(\"Trained bias:\", bias)"
   ]
  },
  {
   "cell_type": "code",
   "execution_count": null,
   "id": "be31a10c-b07d-4d4a-8c8a-6904664f5d10",
   "metadata": {},
   "outputs": [],
   "source": []
  }
 ],
 "metadata": {
  "kernelspec": {
   "display_name": "Python 3 (ipykernel)",
   "language": "python",
   "name": "python3"
  },
  "language_info": {
   "codemirror_mode": {
    "name": "ipython",
    "version": 3
   },
   "file_extension": ".py",
   "mimetype": "text/x-python",
   "name": "python",
   "nbconvert_exporter": "python",
   "pygments_lexer": "ipython3",
   "version": "3.12.7"
  }
 },
 "nbformat": 4,
 "nbformat_minor": 5
}
